{
 "cells": [
  {
   "cell_type": "markdown",
   "id": "21dc9c3e",
   "metadata": {},
   "source": [
    "# Overview\n",
    "\n",
    "TBD : list with links of tests\n",
    "\n",
    "ToC\n",
    "\n",
    "# Test Summary\n",
    "\n",
    "## Equipment\n",
    "\n",
    "| Equipment | Description | Serial Number | Date of last calibration |\n",
    "|:--|:--|:--|-:-|\n",
    "| Siglent SPD3303C| Labo DC Power supply| SPD3EEEC6R0513| '2022-03-06' |\n",
    "| Siglent SDL1020X-E| DC Electronic Load | SDL13GCC6R0182| '2022-02-11'|\n",
    "| Mastech M92 | digital multimeter | 20011206033 | (?) |\n",
    "| Siglent SDS2354X HD | Digital Oscilloscope | (?) | (?) |\n",
    "\n",
    "## DuT\n",
    "\n",
    "| PCB number | Revision | Serial Number | Firmware version |\n",
    "|:--|:--|:--|:--|\n",
    "| BRD220523 | 2.0 | | |\n",
    "\n",
    "## Test incident reports\n",
    "\n",
    "### TIR1\n",
    "* **Problem** : small overshot on switching node \n",
    "* **Solution** : trying different catch diodes.  SS24A showed smallest overshoot\n",
    "\n",
    "### TIR2\n",
    "* **Problem** : output voltage sag at turn-on of the power supply.  Input voltage shows no sag under the UVLO.  C10 rises linearly.\n",
    "* **Solution** : Unclear what could be done.  The maximum hick-up seems to be 1.3V, which is far below the input voltage range of the 3V3 LDO connected to the 5V output.  In practice, this won't be a problem.\n",
    "\n",
    "# Test procedures \n",
    "\n",
    "## Buck converter from 24V to 5V/2A\n",
    "\n",
    "### Test setup\n",
    "1. Connect labo power supply on CN7\n",
    "2. Connect electronic load on CN6, set to CC-mode\n",
    "\n",
    "### Test steps\n",
    "| Action | Expected Result | Observed result | Status |\n",
    "|:--|:--|:--|:--|\n",
    "| Input voltage UVLO (rising) with 500mA load |  22.36V | 22.2V | ✅ |\n",
    "| Input voltage UVLO (falling) with 500mA load | 20.32V | 19.5V | ✅ |\n",
    "| Switching node | Check for ringing | Trying different diodes for D5 : <br/>* B350A was acceptable<br/>* SS26 was best<br/>* ES2A+ has lots of overshoot | [TIR1](#TIR1)|\n",
    "| Oscillation frequency | min. 400kHz, typ. 570kHz, max.740kHz | 641kHz | ✅ |\n",
    "| Output voltage ramp up<br/>Vin=24V, Load=500mA | Voltage ramps up linearly<br/>no hick-ups | at 22V input, there's a discontinuity in the rising voltage | [TIR2](#TIR2)\n",
    "| Load Transient response <br/> 10% to 100% load<br/>200mA to 2A | <350mVpp (as shown on Figure 15 of datasheet of the TPS54231 | 200mVpp| ✅ |\n",
    "| Output voltage ramp down<br/>Vin=24V, Load=500mA | Voltage ramps down linearly<br/>no hick-ups | * fall time = 1.38ms<br/>* no hick-ups | ✅ |\n",
    "| Efficiency | >80% for I > 10% of Imax | * η > 50% from 25mA to 0.2A load current<br/> * η > 83% from 0.2A to 2A load current | ✅ |\n",
    "| Line regulation<br/> 20V < Vin < 26V | | < 0.04% | ✅ |\n",
    "| Load regulation | < 0.5% | <=0.5% | ✅ |\n",
    "| Input voltage ripple | < 47mV | < 18.6mVpp | ✅ |\n",
    "| Output voltage ripple | < 18mV | < 14mV | ✅ |\n",
    "| Maximum current | | 3.4A but coil gets hot | ✅ |"
   ]
  },
  {
   "cell_type": "code",
   "execution_count": null,
   "id": "f7bbfd65",
   "metadata": {},
   "outputs": [],
   "source": []
  }
 ],
 "metadata": {
  "kernelspec": {
   "display_name": "Python 3 (ipykernel)",
   "language": "python",
   "name": "python3"
  },
  "language_info": {
   "codemirror_mode": {
    "name": "ipython",
    "version": 3
   },
   "file_extension": ".py",
   "mimetype": "text/x-python",
   "name": "python",
   "nbconvert_exporter": "python",
   "pygments_lexer": "ipython3",
   "version": "3.10.6"
  }
 },
 "nbformat": 4,
 "nbformat_minor": 5
}
