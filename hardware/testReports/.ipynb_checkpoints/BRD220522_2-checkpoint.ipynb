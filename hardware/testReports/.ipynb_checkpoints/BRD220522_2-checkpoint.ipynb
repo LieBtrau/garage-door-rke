{
 "cells": [
  {
   "cell_type": "markdown",
   "id": "376b7935",
   "metadata": {},
   "source": [
    "# Test Summary\n",
    "## Equipment\n",
    "| Equipment | Description | Serial Number | Date of last calibration |\n",
    "|:--|:--|:--|:--|\n",
    "| Siglent SPD3303C| Labo DC Power supply| SPD3EEEC6R0513| 2022-03-06 |\n",
    "| Siglent SDL1020X-E| DC Electronic Load | SDL13GCC6R0182| 2022-02-11|\n",
    "| Mastech M92 | digital multimeter | 20011206033 | (?) |\n",
    "| Fluke 8010A | digital multimeter | (?) | (?) |\n",
    "| SDS2354X HD | oscilloscope | | |\n",
    "| Power Profiler Kit II | SMU | | |\n",
    "\n",
    "# Test incident reports\n",
    "\n",
    "## TIR1\n",
    "* **Problem** : Green LED doesn't work\n",
    "* **Fix** : Move green LED string parallel to R17.  There's no other free GPIO available.\n",
    "\n",
    "## TIR2\n",
    "* **Problem** : Spurious reboots when sending data.  Maybe the RF-data is coupling into the TX/RX-lines and causing reboots as such?\n",
    "* **Fix**\n",
    " * USB-CDC is only an alternative during debugging.  USB-CDC requires a USB-data connection and the virtual COM-port must be open on the PC-end.\n",
    " * In the real application, there will be no long wires connected to the debug interface.\n",
    "\n",
    "## TIR3\n",
    "* **Problem** : High disturbance on 3V3 when sending data and when 3V3 is supplied by ESProg.\n",
    "* **Fix** : \n",
    " * It would be better that the ESProg injects power on 5V instead of on 3V3. As such, the 3V3 doesn't need to \"leave\" the device and is less prone to injection of spurious signals.  This injection could be done with diode OR-ing of the USB-power input.  \n",
    " * Smaller, 1A diodes could be used (e.g. LCSC C8598) instead of the large 2A diode in use now.\n",
    " * Add BAT54C.  Anode1 connected to VUSB, anode2 connected to CN2.2, cathode connected to Q1.1.\n",
    " * Add 1A schottky from CN2.2 to VCC."
   ]
  },
  {
   "cell_type": "markdown",
   "id": "5074eb40",
   "metadata": {},
   "source": [
    "| Action | Expected Result | Observed result | Status |\n",
    "|:--|:--|:--|:--|\n",
    "| Program device through USB (CN5) | programs correctly | programming OK | ✅ |\n",
    "| Checking LEDs | LEDs go on/off | Green LED doesn't light.<br>Bus fighting with DIO0 output of the LoRa module. |  [TIR1](#TIR1) |\n",
    "| Half duplex LoRa communication between BRD220522_1 and BRD220522_2. | should work | works fine<br>Range and SNR not yet checked.  Antenna should be OK first |  ✅ |\n",
    "| SPI signal integrity | No timings documented in RFM95 or SX1276 datasheet | * no excessive over/undershoot<br>* timings look ok |  ✅ |\n",
    "| Monitor over serial port | works on R1 | When sending LoRa data, the device very often gets a watchdog error and reboots<br>Reflashing to use monitor port over USB fixes the issue | [TIR2](#TIR2)|\n",
    "| Current consumption<br> Vin = 4.1V | (?) | * default TX-power : 29.83mC<br>* minimal TX-power : 22.16mC |"
   ]
  },
  {
   "cell_type": "markdown",
   "id": "776e67b6",
   "metadata": {},
   "source": [
    "# Test result details\n"
   ]
  },
  {
   "cell_type": "markdown",
   "id": "2cb90034",
   "metadata": {},
   "source": [
    "Remark that the ESP32-C3 is still working even though the input voltage is only 2.7V.  The Li-Ion battery should never be discharged this far."
   ]
  },
  {
   "cell_type": "markdown",
   "id": "7b7a6d56",
   "metadata": {},
   "source": [
    "## Power consumption\n",
    "With minimal TX-power and unmatched antennas, the range is already more than adequate.\n",
    "The consumed energy is given by $E = C * U$, where U=4.1V  and C=22.16mC.  So opening the gate requires 90.8mJ.\n",
    "\n",
    "The [battery life calculator](https://www.of-things.de/battery-life-calculator.php) tells us that if we open the garage door 4 times a day, the battery will last for more than 37 years.  While that's a theoretical value.  It's clear that the 500mAh battery is more than enough.\n",
    "\n",
    "## Antenna matching\n",
    "Tests in the actual installation have shown that even without matching, the range is more than adequate.\n",
    "\n",
    "### Procedure\n",
    "\n",
    "1. NanoVNA stimulus setting : 768Mhz - 968MHz\n",
    "2. NanoVNA calibration : soldering short, open, load on the BRD220522\n",
    "3. Show the VSWR curve and check if the point of lowest VSWR corresponds to 868MHz.  If not, you might have to lengthen or shorten the antenna.  The actual impedance is very dependent on the location of your finger/hand, but that doesn't influence the frequency of lowest VSWR much, only the value of the lowest VSWR.  It's really important that the measurement is done with the PCB in the user's hand.  Covering the antenna by fingers has a huge influence on the impedance."
   ]
  },
  {
   "cell_type": "code",
   "execution_count": 2,
   "id": "980dc774",
   "metadata": {},
   "outputs": [],
   "source": [
    "# real part + inductance\n"
   ]
  },
  {
   "cell_type": "markdown",
   "id": "07a45b8a",
   "metadata": {},
   "source": [
    "The L-matching network can then be calculated using [Mantaro's Matching Network Calculator](https://www.mantaro.com/index.php/resources/impedance-calculator.htm)."
   ]
  },
  {
   "cell_type": "markdown",
   "id": "ae323ffe",
   "metadata": {},
   "source": [
    "## 3V3 power integrity\n",
    "Transmission of data causes short power bursts that can lead to sag in 3V3 power supply.\n",
    "When measuring with over C7, with 20MHz probe limit enabled, power supply remains ok.\n",
    "Without the BW-limit, the TX-burst is present on the scope image.  It's unclear whether this burst really exists on the PCB or that it's coupled into the scope probe by the antenna."
   ]
  }
 ],
 "metadata": {
  "kernelspec": {
   "display_name": "Python 3 (ipykernel)",
   "language": "python",
   "name": "python3"
  },
  "language_info": {
   "codemirror_mode": {
    "name": "ipython",
    "version": 3
   },
   "file_extension": ".py",
   "mimetype": "text/x-python",
   "name": "python",
   "nbconvert_exporter": "python",
   "pygments_lexer": "ipython3",
   "version": "3.10.6"
  }
 },
 "nbformat": 4,
 "nbformat_minor": 5
}
