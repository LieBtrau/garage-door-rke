{
 "cells": [
  {
   "cell_type": "markdown",
   "id": "376b7935",
   "metadata": {},
   "source": [
    "# Test Summary\n",
    "## Equipment\n",
    "| Equipment | Description | Serial Number | Date of last calibration |\n",
    "|:--|:--|:--|:--|\n",
    "| Siglent SPD3303C| Labo DC Power supply| SPD3EEEC6R0513| 2022-03-06 |\n",
    "| Siglent SDL1020X-E| DC Electronic Load | SDL13GCC6R0182| 2022-02-11|\n",
    "| Mastech M92 | digital multimeter | 20011206033 | (?) |\n",
    "| Fluke 8010A | digital multimeter | (?) | (?) |\n",
    "\n",
    "# Test incident reports\n",
    "## TIR1\n",
    "* **Problem** : Green LED doesn't work\n",
    "* **Fix** : Move green LED string parallel to R17.  There's no other free GPIO available."
   ]
  },
  {
   "cell_type": "markdown",
   "id": "5074eb40",
   "metadata": {},
   "source": [
    "| Action | Expected Result | Observed result | Status |\n",
    "|:--|:--|:--|:--|\n",
    "| Program device through USB (CN5) | programs correctly | programming OK | ✅ |\n",
    "| Checking LEDs | LEDs go on/off | Green LED doesn't light.<br>Bus fighting with DIO0 output of the LoRa module. |  [TIR1](#TIR1) |"
   ]
  },
  {
   "cell_type": "markdown",
   "id": "776e67b6",
   "metadata": {},
   "source": [
    "# Test result details\n"
   ]
  },
  {
   "cell_type": "markdown",
   "id": "2cb90034",
   "metadata": {},
   "source": [
    "Remark that the ESP32-C3 is still working even though the input voltage is only 2.7V.  The Li-Ion battery should never be discharged this far."
   ]
  },
  {
   "cell_type": "markdown",
   "id": "7b7a6d56",
   "metadata": {},
   "source": [
    "## Antenna matching\n",
    "### Procedure\n",
    "1. NanoVNA stimulus setting : 768Mhz - 968MHz\n",
    "2. NanoVNA calibration : soldering short, open, load on the BRD220522\n",
    "3. Show the VSWR curve and check if the point of lowest VSWR corresponds to 868MHz.  If not, you might have to lengthen or shorten the antenna.  The actual impedance is very dependent on the location of your finger/hand, but that doesn't influence the frequency of lowest VSWR much, only the value of the lowest VSWR.  It's really important that the measurement is done with the PCB in the user's hand.  Covering the antenna by fingers has a huge influence on the impedance."
   ]
  },
  {
   "cell_type": "code",
   "execution_count": null,
   "id": "980dc774",
   "metadata": {},
   "outputs": [],
   "source": [
    "# real part + inductance\n"
   ]
  },
  {
   "cell_type": "markdown",
   "id": "07a45b8a",
   "metadata": {},
   "source": [
    "The L-matching network can then be calculated using [Mantaro's Matching Network Calculator](https://www.mantaro.com/index.php/resources/impedance-calculator.htm)."
   ]
  },
  {
   "cell_type": "markdown",
   "id": "ae323ffe",
   "metadata": {},
   "source": [
    "## 3V3 power integrity\n",
    "Transmission of data causes short power bursts that can lead to sag in 3V3 power supply.\n",
    "When measuring with over C7, with 20MHz probe limit enabled, power supply remains ok.\n",
    "Without the BW-limit, the TX-burst is present on the scope image.  It's unclear whether this burst really exists on the PCB or that it's coupled into the scope probe by the antenna."
   ]
  },
  {
   "cell_type": "code",
   "execution_count": null,
   "id": "be3b73fa",
   "metadata": {},
   "outputs": [],
   "source": []
  }
 ],
 "metadata": {
  "kernelspec": {
   "display_name": "Python 3 (ipykernel)",
   "language": "python",
   "name": "python3"
  },
  "language_info": {
   "codemirror_mode": {
    "name": "ipython",
    "version": 3
   },
   "file_extension": ".py",
   "mimetype": "text/x-python",
   "name": "python",
   "nbconvert_exporter": "python",
   "pygments_lexer": "ipython3",
   "version": "3.10.6"
  }
 },
 "nbformat": 4,
 "nbformat_minor": 5
}
