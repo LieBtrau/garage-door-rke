{
 "cells": [
  {
   "cell_type": "markdown",
   "id": "782e7893",
   "metadata": {},
   "source": [
    "# Overview\n",
    "\n",
    "TBD : list with links of tests\n",
    "\n",
    "ToC\n",
    "\n",
    "# Test Summary\n",
    "\n",
    "## Equipment\n",
    "\n",
    "| Equipment | Description | Serial Number | Date of last calibration |\n",
    "|:--|:--|:--|-:-|\n",
    "| Siglent SPD3303C| Labo DC Power supply| SPD3EEEC6R0513| '2022-03-06' |\n",
    "| Siglent SDL1020X-E| DC Electronic Load | SDL13GCC6R0182| '2022-02-11'|\n",
    "| Mastech M92 | digital multimeter | 20011206033 | (?) |\n",
    "## DuT\n",
    "\n",
    "| PCB number | Revision | Serial Number | Firmware version |\n",
    "|:--|:--|:--|:--|\n",
    "| BRD220523 | 1.0 | | |\n",
    "\n",
    "## Test incident reports\n",
    "### TIR1\n",
    "* Problem: Power supply does not start because the load is so high that it prevents the output voltage from rising.\n",
    "* Action: Add an output switch which only connects the PSU to the load once the output voltage is high enough.\n",
    "### TIR2\n",
    "* Problem: Input filtering likely to be inadequate\n",
    "* Action: Add two sections of 10µH/10µF\n",
    "# Test procedures \n",
    "\n",
    "## Buck converter from 24V to 5V\n",
    "### Test setup\n",
    "1. Connect labo power supply on CN7\n",
    "2. Connect electronic load on CN6, set to CC-mode\n",
    "### Test steps\n",
    "| Action | Expected Result | Observed result | Status |\n",
    "|:--|:--|:--|:--|\n",
    "| Input voltage UVLO (rising) with 500mA load | 5.3 to 5.5V | 5.80Vin, Vout = 4.46V | *Acceptable* |\n",
    "| Input voltage UVLO (falling) with 500mA load | 300mV hysteresis | 5.47Vin| *OK* |\n",
    "| Output voltage ramp up<br/>Vin=24V, Load=500mA | Voltage ramps up linearly<br/>no hick-ups | * In CC-mode, max. current <5mA for successful power up.<br/>* In CR-mode, R must be ≥6Ω <br/>![Rising Vout and switching node](../Screenshot from 2022-10-22 21-10-39.png) | [TIR1](#tir1)| \n",
    "| Output voltage ramp down<br/>Vin=24V, Load=500mA |Voltage ramps down linearly<br/>no hick-ups | Voltage ramps down to 0V in 20ms | *OK* |\n",
    "| Oscillation frequency | \n",
    "| Efficiency |\n",
    "| Line regulation |\n",
    "| Load regulation |\n",
    "| Load Transient response |\n",
    "\n",
    "\n",
    "\n",
    "\n"
   ]
  },
  {
   "cell_type": "code",
   "execution_count": null,
   "id": "df6b1870",
   "metadata": {},
   "outputs": [],
   "source": []
  }
 ],
 "metadata": {
  "kernelspec": {
   "display_name": "Python 3 (ipykernel)",
   "language": "python",
   "name": "python3"
  },
  "language_info": {
   "codemirror_mode": {
    "name": "ipython",
    "version": 3
   },
   "file_extension": ".py",
   "mimetype": "text/x-python",
   "name": "python",
   "nbconvert_exporter": "python",
   "pygments_lexer": "ipython3",
   "version": "3.10.6"
  }
 },
 "nbformat": 4,
 "nbformat_minor": 5
}
