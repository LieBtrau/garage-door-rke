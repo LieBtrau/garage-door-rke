{
 "cells": [
  {
   "cell_type": "markdown",
   "id": "030e8615",
   "metadata": {},
   "source": [
    "# Background\n",
    "Version 1 of the PSU had a RT8279GSP (unavailable), which ended up being replaced by a pin-compatible, but expensive [TPS5410](https://www.trustedparts.com/en/part/texas-instruments/TPS5410MDREP).\n",
    "\n",
    "There are many more and cheaper options available when another pinout for the converter is used.\n",
    "The [TPS54231D](https://www.trustedparts.com/en/part/texas-instruments/TPS54231D) is much cheaper and readily available.\n",
    "\n",
    "![Typical Application Schematic](../docs/fig10.png)\n",
    "\n",
    "### References\n",
    "* [Switching Power Supply Topology Voltage Mode vs. Current Mode](https://www.ti.com/lit/an/slua119/slua119.pdf)\n",
    "* [UNDERSTANDING AND APPLYING CURRENT-MODE CONTROL THEORY](https://www.ti.com/lit/an/snva555/snva555.pdf)"
   ]
  },
  {
   "cell_type": "code",
   "execution_count": 35,
   "id": "60c2ce9c",
   "metadata": {},
   "outputs": [],
   "source": [
    "# TPS54231 parameters\n",
    "Ven = 1.25 # [V] Enable threshold voltage\n",
    "Vref = 0.8 # [V] Reference aka feedback voltage\n",
    "iss = 2e-6 # [A] Soft start charge current\n",
    "Fsw = 570e3 # [Hz] switching frequency\n",
    "\n",
    "# Design choices\n",
    "UVLO_rising = 22 # [V] avoid loading 24V of the garage door too much\n",
    "UVLO_falling = 20\n",
    "css = 10e-9 # [F]\n",
    "Vout = 5 # [V] output voltage setting\n",
    "Iout_max = 2 # [A] max. output current\n",
    "Vin_max = 28        # maximum input voltage [V]\n"
   ]
  },
  {
   "cell_type": "markdown",
   "id": "058f5406",
   "metadata": {},
   "source": [
    "## Under voltage calculation"
   ]
  },
  {
   "cell_type": "code",
   "execution_count": 36,
   "id": "2a4bd9cc",
   "metadata": {},
   "outputs": [
    {
     "name": "stdout",
     "output_type": "stream",
     "text": [
      "Ren1 = 666666.6666666666ohm\n",
      "Ren2 = 38910.505836575874ohm\n",
      "Ren2_e24 = 38910.505836575874ohm\n"
     ]
    }
   ],
   "source": [
    "# User preferences :\n",
    "Ren1 = (UVLO_rising - UVLO_falling)/3e-6\n",
    "print(\"Ren1 = \"+str(Ren1)+\"ohm\")\n",
    "Ren2 = Ven /((UVLO_rising - Ven)/Ren1 + 1e-6)\n",
    "print(\"Ren2 = \"+str(Ren2)+\"ohm\")\n",
    "\n",
    "# UVLO calculation with e24-value resistors\n",
    "Ren1_e24 = 680e3\n",
    "Ren2_e24 = Ven /((UVLO_rising - Ven)/Ren1_e24 + 1e-6)\n",
    "print(\"Ren2_e24 = \"+str(Ren2)+\"ohm\")"
   ]
  },
  {
   "cell_type": "markdown",
   "id": "3ffc1829",
   "metadata": {},
   "source": [
    "### Final results\n",
    "* R1 = 680㏀\n",
    "* R2 = 39㏀"
   ]
  },
  {
   "cell_type": "code",
   "execution_count": 3,
   "id": "ce311131",
   "metadata": {},
   "outputs": [
    {
     "name": "stdout",
     "output_type": "stream",
     "text": [
      "Typical UVLO rising = 22.364871794871796\n",
      "Typical UVLO falling = 20.324871794871797\n"
     ]
    }
   ],
   "source": [
    "Ven = 1.25 # [V] enable voltage\n",
    "Ren1 = 680e3\n",
    "Ren2 = 39e3\n",
    "Vstart = (Ven/Ren2 - 1e-6)*Ren1 + Ven\n",
    "print(\"Typical UVLO rising = \" + str(Vstart))\n",
    "Vstop = Vstart - Ren1 * 3e-6\n",
    "print(\"Typical UVLO falling = \"+ str(Vstop))"
   ]
  },
  {
   "cell_type": "markdown",
   "id": "a203002c",
   "metadata": {},
   "source": [
    "## Slow-start"
   ]
  },
  {
   "cell_type": "code",
   "execution_count": 37,
   "id": "1ed3d10e",
   "metadata": {},
   "outputs": [
    {
     "name": "stdout",
     "output_type": "stream",
     "text": [
      "Slow start time  = 0.004 s with C5 = 1e-08F\n"
     ]
    }
   ],
   "source": [
    "tss = css * Vref / iss\n",
    "print(\"Slow start time  = \" + str(tss) + \" s with C5 = \" + str(css) + \"F\")"
   ]
  },
  {
   "cell_type": "markdown",
   "id": "361965ba",
   "metadata": {},
   "source": [
    "### Output voltage set point"
   ]
  },
  {
   "cell_type": "code",
   "execution_count": 38,
   "id": "6d925e71",
   "metadata": {},
   "outputs": [
    {
     "name": "stdout",
     "output_type": "stream",
     "text": [
      "1904.7619047619046\n"
     ]
    }
   ],
   "source": [
    "R5 = 10e3 # [Ω]\n",
    "R6 = R5 * Vref / (Vout - Vref)\n",
    "print(R6)"
   ]
  },
  {
   "cell_type": "markdown",
   "id": "37a461dc",
   "metadata": {},
   "source": [
    "According to [Resistor calculator (series and parallel)](https://www.qsl.net/in3otd/parallr.html) we get closest by setting : \n",
    "* R6 = 1.8㏀ + 100Ω"
   ]
  },
  {
   "cell_type": "markdown",
   "id": "ff472462",
   "metadata": {},
   "source": [
    "## Input capacitors"
   ]
  },
  {
   "cell_type": "code",
   "execution_count": 39,
   "id": "c48b79de",
   "metadata": {},
   "outputs": [
    {
     "name": "stdout",
     "output_type": "stream",
     "text": [
      "Input voltage ripple is 0.0467V.\n",
      "RMS-ripple current is 1.0A.\n"
     ]
    }
   ],
   "source": [
    "import math\n",
    "\n",
    "Cin = 10e-6  # 10µF\n",
    "Cin_count = 2 # Number of Cin caps in parallel\n",
    "DF = 0.1 # 10% in Yageo datasheet\n",
    "\n",
    "Xc = 1 /(2*math.pi*Fsw*Cin)\n",
    "ESR_max = DF * Xc\n",
    "delta_vin = Iout_max * 0.25 / (Cin * Cin_count * Fsw) + Iout_max * ESR_max / Cin_count\n",
    "print('Input voltage ripple is {:.3}V.'.format(delta_vin))\n",
    "print('RMS-ripple current is {:.3}A.'.format(Iout_max/2))"
   ]
  },
  {
   "cell_type": "markdown",
   "id": "d7feeea9",
   "metadata": {},
   "source": [
    "### Final results\n",
    "Ripple current shouldn't be an issue.  TDK specifies about 2°C for 1A, 570kHz RMS ripple current.\n",
    "* C1 = C2 = 10µF/50V/1210\n",
    "* C3 = 10nF/50V/0603"
   ]
  },
  {
   "cell_type": "markdown",
   "id": "4c203b6e",
   "metadata": {},
   "source": [
    "## Inductor selection"
   ]
  },
  {
   "cell_type": "code",
   "execution_count": 40,
   "id": "5a94deaf",
   "metadata": {},
   "outputs": [
    {
     "name": "stdout",
     "output_type": "stream",
     "text": [
      "Minimum inductor value is 1.8e-05H\n",
      "Peak-peak inductor ripple current is 0.5A\n",
      "Inductor RMS current is 2.0A\n",
      "Peak inductor current is 2.3A\n"
     ]
    }
   ],
   "source": [
    "# Design requirements\n",
    "Kind = 0.2          # ΔIL/IL\n",
    "k = 0.8             # TI design margin \n",
    "\n",
    "# Calculated parameters\n",
    "T = 1/Fsw                                     # switching period [s]\n",
    "D = Vout/Vin_max                              # duty cycle\n",
    "t_on = T * D                                  # MOSFET-ON period [s]\n",
    "delta_IL_on = Kind * Iout_max                 # Ripple current\n",
    "L_min = (Vin_max - Vout) * t_on / delta_IL_on # Minimum recommended inductor\n",
    "print('Minimum inductor value is {:.2}H'.format(L_min))\n",
    "\n",
    "L = 18e-6 # [H] Selection for output inductor\n",
    "\n",
    "# Inductor current calculations\n",
    "Ilpp = (Vin_max - Vout) * t_on / (L * k)\n",
    "print('Peak-peak inductor ripple current is {:.2}A'.format(Ilpp))\n",
    "Ilrms = pow(pow(Iout_max,2) + pow(Ilpp,2)/12,0.5)\n",
    "print('Inductor RMS current is {:.2}A'.format(Ilrms))\n",
    "Ilpk = Iout_max + Ilpp/2\n",
    "print('Peak inductor current is {:.2}A'.format(Ilpk))"
   ]
  },
  {
   "cell_type": "markdown",
   "id": "1d959694",
   "metadata": {},
   "source": [
    "A 12.7 x 12.7mm, shielded, <40mΩ, >3A inductor will do:\n",
    "* Wuerth 744771118\n",
    "* Eaton DR125-180-R\n",
    "* Bourns SRR1260-180M\n",
    "* Pulse P1173.183NLT\n",
    "* Sumida CDRH127NP-180MC"
   ]
  },
  {
   "cell_type": "markdown",
   "id": "696e90b1",
   "metadata": {},
   "source": [
    "## Output capacitor selection\n",
    "Closed loop cross-over frequency must be < Fsw_min/8, but for the TPS54231 it will be limited anyhow to 25kHz."
   ]
  },
  {
   "cell_type": "code",
   "execution_count": 41,
   "id": "c4b248d8",
   "metadata": {},
   "outputs": [
    {
     "name": "stdout",
     "output_type": "stream",
     "text": [
      "Minimum output capacitance is 2.5e-06F\n",
      "Output voltage ripple is 0.0018V\n",
      "Output capacitor's current ripple is 0.14A\n"
     ]
    }
   ],
   "source": [
    "ro = Vout / Iout_max\n",
    "fco_max = 25e3 # [Hz] maximum desired cross-over frequency\n",
    "Co_min = 1 / (2 * math.pi * ro * fco_max) # minimum output capacitance [F]\n",
    "print('Minimum output capacitance is {:.2}F'.format(Co_min))\n",
    "\n",
    "Co = 47e-6 # [F] Selected output capacitor\n",
    "Co_count = 2\n",
    "Co_tot = Co * Co_count\n",
    "Resr_co = 5e-3 # [Ω]\n",
    "\n",
    "# Output ripple calculation\n",
    "Vopp = Ilpp * ((D-0.5)/(4*Fsw*Co_tot) + Resr_co)\n",
    "print('Output voltage ripple is {:.2}V'.format(Vopp))\n",
    "# Output capacitor RMS-ripple current calculation\n",
    "Icout_rms = Ilpp / pow(12,0.5)\n",
    "print('Output capacitor\\'s current ripple is {:.2}A'.format(Icout_rms))"
   ]
  },
  {
   "cell_type": "markdown",
   "id": "d5a03aba",
   "metadata": {},
   "source": [
    "### Design choice\n",
    "* C8 = C9 = 47µF/10V"
   ]
  },
  {
   "cell_type": "markdown",
   "id": "c228efcd",
   "metadata": {},
   "source": [
    "## Compensation network\n",
    "We have the joy of using a component without an internal compensation network.\n",
    "A [Type II compensation network](https://www.ti.com/lit/an/slva662/slva662.pdf) must be connected externally.  \n",
    "1. Set R3 to determine the cross-over frequency\n",
    "2. Set C6 to change the frequency of the zero\n",
    "3. Set C7 to change the frequency of the pole\n",
    "\n",
    "The TPS54231 datasheet uses [Roea](https://www.ti.com/lit/an/slva503a/slva503a.pdf), which is fictional load resistance of the transconductance error amplifier.\n",
    "Roea = DCgain_error_amplifier / transconductance_error_amplifier = 800 / 92e-6 = 8.696MΩ\n",
    "\n",
    "### Frequency calculation of the pole and the zero."
   ]
  },
  {
   "cell_type": "code",
   "execution_count": 42,
   "id": "30384e16",
   "metadata": {},
   "outputs": [
    {
     "name": "stdout",
     "output_type": "stream",
     "text": [
      "Pole frequency is 9.33e+04Hz\n",
      "Zero frequency is 6.7e+03Hz\n"
     ]
    }
   ],
   "source": [
    "PB = 60 # [°] desired phase boost\n",
    "PB_rad = PB * math.pi/180\n",
    "\n",
    "# Calculate frequency of first pole\n",
    "fp = (math.tan(PB_rad)+math.pow(math.pow(math.tan(PB_rad),2)+1,0.5))*fco_max\n",
    "print('Pole frequency is {:.3}Hz'.format(fp))\n",
    "\n",
    "# Calculate frequency of the zero (cross-over frequency is geometric mean of pole and zero)\n",
    "fz = math.pow(fco_max,2) / fp\n",
    "print('Zero frequency is {:.3}Hz'.format(fz))"
   ]
  },
  {
   "cell_type": "markdown",
   "id": "6e27c675",
   "metadata": {},
   "source": [
    "### Compensation network components"
   ]
  },
  {
   "cell_type": "code",
   "execution_count": 43,
   "id": "ff2b12d0",
   "metadata": {},
   "outputs": [
    {
     "name": "stdout",
     "output_type": "stream",
     "text": [
      "R3 = 1.11e+05Ω\n",
      "C6 = 2.13e-10F\n",
      "C7 = 1.53e-11F\n"
     ]
    }
   ],
   "source": [
    "Gmp = 9 # [A/V] Current sense gain, aka switch current to COMP transconductance\n",
    "Gma = 92e-6 # [A/V] Error amplifier transconductance\n",
    "\n",
    "R3 = 2 * math.pi * fco_max * Vout * Co_tot / (Vref * Gmp * Gma)\n",
    "print('R3 = {:.3}Ω'.format(R3))\n",
    "\n",
    "C6 = 1 / (2 * math.pi * fz * R3)\n",
    "print('C6 = {:.3}F'.format(C6))\n",
    "\n",
    "C7 = 1 / (2 * math.pi * fp * R3)\n",
    "print('C7 = {:.3}F'.format(C7))"
   ]
  },
  {
   "cell_type": "markdown",
   "id": "ef17427a",
   "metadata": {},
   "source": [
    "## Bootstrap capacitor\n",
    "100nF/0603\n",
    "\n",
    "## Catch-diode\n",
    "* Reverse voltage > Vinmax + 0.5V\n",
    "* Maximum current > peak inductor current\n",
    "* TI Webench advices FSV360FP"
   ]
  },
  {
   "cell_type": "code",
   "execution_count": null,
   "id": "e835c9df",
   "metadata": {},
   "outputs": [],
   "source": []
  }
 ],
 "metadata": {
  "kernelspec": {
   "display_name": "Python 3 (ipykernel)",
   "language": "python",
   "name": "python3"
  },
  "language_info": {
   "codemirror_mode": {
    "name": "ipython",
    "version": 3
   },
   "file_extension": ".py",
   "mimetype": "text/x-python",
   "name": "python",
   "nbconvert_exporter": "python",
   "pygments_lexer": "ipython3",
   "version": "3.10.6"
  }
 },
 "nbformat": 4,
 "nbformat_minor": 5
}
