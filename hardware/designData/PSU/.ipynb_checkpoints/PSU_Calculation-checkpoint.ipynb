{
 "cells": [
  {
   "cell_type": "markdown",
   "id": "ca542c03",
   "metadata": {},
   "source": [
    "# References\n",
    "* [Current ripple of a buck converter](https://www.richtek.com/Design Support/Technical Document/AN009)\n",
    "* [Basic Calculation of a Buck Converter’s Power Stage](https://www.richtek.com/Design%20Support/Technical%20Document/AN041?sc_lang=en)\n",
    "* [Basic Calculation of a Buck Converter's Power Stage](https://www.ti.com/lit/an/slva477b/slva477b.pdf)\n",
    "# Inductor calculation"
   ]
  },
  {
   "cell_type": "code",
   "execution_count": 14,
   "id": "e9059163",
   "metadata": {},
   "outputs": [
    {
     "name": "stdout",
     "output_type": "stream",
     "text": [
      "Inductor is 4.3e-05H\n"
     ]
    }
   ],
   "source": [
    "# Design requirements\n",
    "Vout = 5            # output voltage [V]\n",
    "Vin_max = 36        # maximum input voltage [V]\n",
    "Kind = 0.2          # ΔIL/IL\n",
    "Fsw = 500e3         # switching frequency [Hz]\n",
    "Iout_max = 1        # maximum output current [A]\n",
    "k = 0.8             # TI extra design margin\n",
    "\n",
    "# Calculated parameters\n",
    "T = 1/Fsw                                     # switching period [s]\n",
    "D = Vout/Vin_max                              # duty cycle\n",
    "t_on = T * D                                  # MOSFET-ON period [s]\n",
    "delta_IL_on = Kind * Iout_max                 # Ripple current\n",
    "L_min = (Vin_max - Vout) * t_on / delta_IL_on # Minimum recommended inductor\n",
    "print('Minimum inductor value is {:.2}H'.format(L_min))"
   ]
  },
  {
   "cell_type": "markdown",
   "id": "23b6c8fa",
   "metadata": {},
   "source": [
    "# Input ripple calculation\n",
    "A buck converter has its highest dI/dt at its input, so we must invest in proper filtering there.\n",
    "To pass the EN55022 conducted emission test Class B, the sum of differential and common mode emissions must remain below 40dBµV = 100µV"
   ]
  },
  {
   "cell_type": "code",
   "execution_count": 17,
   "id": "69cbbede",
   "metadata": {},
   "outputs": [
    {
     "name": "stdout",
     "output_type": "stream",
     "text": [
      "Input voltage ripple is 0.075V\n"
     ]
    }
   ],
   "source": [
    "Cin = 20e-6  # 2x10µF\n",
    "ESR_max = 50e-3 # 2x10µF\n",
    "delta_vin = Iout_max * 0.25 / (Cin * Fsw) + Iout_max * ESR_max\n",
    "print('Input voltage ripple is {:.3}V'.format(delta_vin))"
   ]
  },
  {
   "cell_type": "markdown",
   "id": "8afc440f",
   "metadata": {},
   "source": [
    "We need to get this 75mV 500kHz ripple downto 100µV.\n",
    "According to simulation, one LC-low pass filter 10µH,10µF would be enough.\n",
    "# Output capacitor calculation\n",
    "The closed loop crossover frequency f_co is the frequency where the closed loop gain is 0dB.\n",
    "Rule of thumb : cross-over frequency is Fsw/8.  This is a trade-off between low ripple (=low f_co) and fast reaction to changes (=high f_co).\n",
    "Magical formula from TPS5410 datasheet:"
   ]
  },
  {
   "cell_type": "code",
   "execution_count": 19,
   "id": "d97bcb47",
   "metadata": {},
   "outputs": [
    {
     "name": "stdout",
     "output_type": "stream",
     "text": [
      "Minimum output capacitor value is 0.00014F\n"
     ]
    }
   ],
   "source": [
    "f_co = 10e3 #  closed loop crossover frequency\n",
    "Cout = 1/ (3357 * L_min * f_co * Vout)\n",
    "print('Minimum output capacitor value is {:.2}F'.format(Cout))"
   ]
  },
  {
   "cell_type": "markdown",
   "id": "1a58a302",
   "metadata": {},
   "source": [
    "So taking 3x 47µF would satisfy this criterion."
   ]
  }
 ],
 "metadata": {
  "kernelspec": {
   "display_name": "Python 3 (ipykernel)",
   "language": "python",
   "name": "python3"
  },
  "language_info": {
   "codemirror_mode": {
    "name": "ipython",
    "version": 3
   },
   "file_extension": ".py",
   "mimetype": "text/x-python",
   "name": "python",
   "nbconvert_exporter": "python",
   "pygments_lexer": "ipython3",
   "version": "3.10.4"
  }
 },
 "nbformat": 4,
 "nbformat_minor": 5
}
